{
 "cells": [
  {
   "cell_type": "code",
   "execution_count": 2,
   "metadata": {},
   "outputs": [
    {
     "data": {
      "text/html": [
       "<div>\n",
       "<style scoped>\n",
       "    .dataframe tbody tr th:only-of-type {\n",
       "        vertical-align: middle;\n",
       "    }\n",
       "\n",
       "    .dataframe tbody tr th {\n",
       "        vertical-align: top;\n",
       "    }\n",
       "\n",
       "    .dataframe thead th {\n",
       "        text-align: right;\n",
       "    }\n",
       "</style>\n",
       "<table border=\"1\" class=\"dataframe\">\n",
       "  <thead>\n",
       "    <tr style=\"text-align: right;\">\n",
       "      <th></th>\n",
       "      <th>Unnamed: 0</th>\n",
       "      <th>name</th>\n",
       "      <th>score</th>\n",
       "      <th>comment</th>\n",
       "      <th>dtl_position</th>\n",
       "      <th>position</th>\n",
       "    </tr>\n",
       "  </thead>\n",
       "  <tbody>\n",
       "    <tr>\n",
       "      <th>0</th>\n",
       "      <td>0</td>\n",
       "      <td>루드 굴리트</td>\n",
       "      <td>3.83</td>\n",
       "      <td>5카쓰다가 적폐팀 다시짜면서 급여아끼려고 농협8카로 바꿧는데차이가 없음 ㅡㅡ 이미 ...</td>\n",
       "      <td>CF</td>\n",
       "      <td>FW</td>\n",
       "    </tr>\n",
       "    <tr>\n",
       "      <th>1</th>\n",
       "      <td>1</td>\n",
       "      <td>에우제비우</td>\n",
       "      <td>3.83</td>\n",
       "      <td>진짜 신세계이긴 함. mmr로 난이도 올라가거나 컨디션 문제 아니면 진짜 미친놈. ...</td>\n",
       "      <td>CF</td>\n",
       "      <td>FW</td>\n",
       "    </tr>\n",
       "    <tr>\n",
       "      <th>2</th>\n",
       "      <td>2</td>\n",
       "      <td>토마스 뮐러</td>\n",
       "      <td>4.21</td>\n",
       "      <td>무게중심이 너무 높다 안밀리고 덜밀리고를떠나서 휘청대면서 터치까지 길다 뮐러 할아버...</td>\n",
       "      <td>CF</td>\n",
       "      <td>FW</td>\n",
       "    </tr>\n",
       "    <tr>\n",
       "      <th>3</th>\n",
       "      <td>3</td>\n",
       "      <td>카림 벤제마</td>\n",
       "      <td>4.06</td>\n",
       "      <td>정말 좋게쓰는중임 프국 투톱으로 베테랑 라카제트랑 토츠 은카 쓰는중인데 라카제트 잡...</td>\n",
       "      <td>CF</td>\n",
       "      <td>FW</td>\n",
       "    </tr>\n",
       "    <tr>\n",
       "      <th>4</th>\n",
       "      <td>4</td>\n",
       "      <td>A. 델피에로</td>\n",
       "      <td>4.49</td>\n",
       "      <td>57억5천? 이게 맞아 ?</td>\n",
       "      <td>CF</td>\n",
       "      <td>FW</td>\n",
       "    </tr>\n",
       "  </tbody>\n",
       "</table>\n",
       "</div>"
      ],
      "text/plain": [
       "   Unnamed: 0     name  score  \\\n",
       "0           0   루드 굴리트   3.83   \n",
       "1           1    에우제비우   3.83   \n",
       "2           2   토마스 뮐러   4.21   \n",
       "3           3   카림 벤제마   4.06   \n",
       "4           4  A. 델피에로   4.49   \n",
       "\n",
       "                                             comment dtl_position position  \n",
       "0  5카쓰다가 적폐팀 다시짜면서 급여아끼려고 농협8카로 바꿧는데차이가 없음 ㅡㅡ 이미 ...           CF       FW  \n",
       "1  진짜 신세계이긴 함. mmr로 난이도 올라가거나 컨디션 문제 아니면 진짜 미친놈. ...           CF       FW  \n",
       "2  무게중심이 너무 높다 안밀리고 덜밀리고를떠나서 휘청대면서 터치까지 길다 뮐러 할아버...           CF       FW  \n",
       "3  정말 좋게쓰는중임 프국 투톱으로 베테랑 라카제트랑 토츠 은카 쓰는중인데 라카제트 잡...           CF       FW  \n",
       "4                                     57억5천? 이게 맞아 ?           CF       FW  "
      ]
     },
     "execution_count": 2,
     "metadata": {},
     "output_type": "execute_result"
    }
   ],
   "source": [
    "import pandas as pd\n",
    "\n",
    "# extracted_df 의 선수 목록 불러오기\n",
    "extracted_df = pd.read_csv('./extracted_df.csv', encoding='cp949')\n",
    "extracted_df.head()\n"
   ]
  },
  {
   "cell_type": "code",
   "execution_count": 3,
   "metadata": {
    "scrolled": true
   },
   "outputs": [
    {
     "name": "stdout",
     "output_type": "stream",
     "text": [
      "['크리스티아누 호날두', '리오넬 메시', '호나우두', '킬리안 음바페', '손흥민', '루드 굴리트', '버질 반데이크', 'K. 더브라위너', '네이마르 Jr.', '라파엘 바란', '세르히오 라모스', 'H. 크레스포', '에덴 아자르', 'Z. 이브라히모비치', '폴 포그바', '가레스 베일', '티에리 앙리', 'P. 비에이라', '에우제비우', '에마뉘엘 프티', 'S. 아구에로', '카림 벤제마', '파올로 말디니', '미하엘 발락', '해리 케인', '호나우지뉴', 'L. 수아레스', '루카 모드리치', '티보 쿠르투아', 'A. 그리즈만', 'R. 레반도프스키', '리오 퍼디난드', 'A. 셰브첸코', '로멜루 루카쿠', '요한 크루이프', '토니 크로스', 'P. 오바메양', '파벨 네드베드', '모하메드 살라', 'F. 레이카르트', '프랭크 램파드', '아르투로 비달', '웨인 루니', '토마스 뮐러', '히바우두', '지네딘 지단', 'G. 돈나룸마', '스티븐 제라드', '라울', '마르셀루', 'M. 발로텔리', '은골로 캉테', '레온 고레츠카', '테오', '사디오 마네', '로랑 블랑', '데헤아', 'D. 드로그바', '이반 페리시치', '파울로 디발라', '홍철', 'F. 칸나바로', '프렝키 더용', 'C. 세이도르프', '마르코 로이스', '티아구 실바', 'A. 델피에로', '앙토니 마시알', '제롬 보아텡', '마누엘 노이어', 'P. 클라위베르트', 'M. 더리흐트', 'L. 마테우스', '페르난도 토레스', '호베르투 카를루스', 'D. 마라도나', '다비드 루이스', '사미 케디라', '펠레', '차범근', '카일 워커', '무사 시소코', '부트라게뇨', '에딘손 카바니', 'R. 반니스텔로이', '호베르투 피르미누', '게리 리네커', 'A. 라포르트', '쿠티뉴', '우스만 뎀벨레', '세르주 냐브리', 'D. 베르캄프', 'C. 에릭센', '세르지오 부스케츠', '마르셀 드사이', '헤나투 산시스', '루이스 피구', 'K. 마놀라스', '엠레 잔', 'M. 래시포드', '솔 캠벨', 'M. 반바스텐', '에데르 밀리탕', '피케', '라힘 스털링', '티모 베르너', '요주아 키미히', '가린샤', '알리송', '다보르 슈케르', '마이클 오언', '리로이 자네', 'A. 네스타', '가브리엘 제주스', 'E. 반데르사르', '하미레스', 'D. 트레제게', '올리비에 지루', 'W. 슈체스니', '박지성', 'T. 에이브러햄', '알렉스 산드루', '카제미루', '곤살로 이과인', '야프 스탐', '로베르토 바조', '라자 나잉골란', '황의조', '잭 로드웰', '베론', '프랑크 리베리', 'T. 알렉산더-아놀드', '위고 요리스', '유상철', 'A. 라비오', 'G. 잠브로타', '조르디 알바', '파비뉴', 'L. 보누치', 'O. 비어호프', '이정수', '페를랑 멘디', 'A. 하키미', '파울루 푸트리', '소크라테스', '주앙 칸셀루', '디에고 코스타', '다비드 알라바', '카이 하베르츠', '홍명보', 'A. 산체스', '뱅자맹 멘디', '파울리뉴', 'E. 홀란', '모라타', 'G. 베이날둠', '세르주 오리에', '팔카오', '사울', 'S. 밀린코비치-사비치', '윌리안', 'L. 에르난데스', '필리포 인자기', 'A. 베고비치', '앙헬 디마리아', '마르키뉴스', 'M. 테어슈테겐', '황희찬', '잔프랑코 졸라', '마츠 후멜스', '주앙 펠릭스', 'J. 로드리게스', 'S. 한다노비치', '세스크 파브레가스', '조 고메스', '조던 헨더슨', 'M. 그린우드', '김신욱', 'A. 데이비스', '케빈 음바부', '루크 쇼', '닉 포프', 'O. 마틴스', 'M. 이카르디', '박주영', '페드로', '페페', 'G. 키엘리니', 'A. 아레올라', '탕기 은돔벨레', 'A. 로버트슨', '에데르송', 'C. 비에리', '무사 뎀벨레', '메수트 외질', 'A. 라카제트', 'D. 우파메카노', '잭 버틀런드', '차두리', 'S. 에펜베르크', '김민재', '다니 아우베스', '악셀 비첼', '에딘 제코', 'B. 라우드루프', 'J. 드락슬러', 'M. 펠라이니', '넬송 세메두', '리스 제임스', '델리 알리', '얀 베르통언', '존 스톤스', '알레샨드리 파투', '폴 스콜스', 'F. 발베르데', 'T. 알데르베이럴트', 'A. 피를로', '이언 러시', 'K. 쿨리바리', '고정운', 'C. 푸욜', '제이미 바디', '이반 라키티치', '카르바할', '다비드 실바', 'A. 콜라로프', 'T. 포수-멘사', 'M. 오베르마르스', '제이든 산초', '토마 뫼니에', '비니시우스 주니어', 'I. 코나테', 'M. 코바치치', '티아고', '페르난지뉴', '피카요 토모리', '조현우', '치로 임모빌레', '로비 파울러', '베르나르두 실바', '위삼 벤예데르', '제임스 밀너', '커트 주마', 'B. 마튀이디', '조르당 루카쿠', '이스코', 'H. 스토이치코프', '엑토르 베예린', '기성용', '젠나로 가투소', '리야드 마레즈', 'J. 라르센', '얀 오블라크', '로드리', '이강인', '킹슬레 코망', '마리오 고메스', 'A. 완-비사카', 'P. 반안홀트', '이니에스타', 'L. 칼리니치', '페트르 체흐', '마르코 베라티', 'C. 마켈렐레', '클레망 랑글레', '헐크', 'K. 보아텡', 'M. 피아니치', '크리스 스몰링', '제르단 샤키리', '앨런 시어러', '카푸', '데일리 블린트', '브루누 페르난데스', 'G. 콘도그비아', '얀 콜러', '페르난도 이에로', '알렉스 텔리스', '페페 레이나', '프레드', '아리언 로번', '나니', '로드리고', '덴젤 둠프리스', '뤼카 디뉴', '김도근', '더글라스 코스타', '케일러 나바스', 'A. 옥스-체임벌린', '후이 코스타', 'I. 아바테', 'D. 메르턴스', '멤피스 데파이', '카시야스', '안드레 쉬얼레', 'D. 차파코스타', '네마냐 마티치', '파레호', 'C. 테베스', '아다마 트라오레', '케파', '잔루이지 부폰', 'C. 풀리식', 'M. 라우드루프', '조 하트', '랜던 도노번', '다닐루', '케이타 발데', 'A. 플로렌치', 'L. 마르티네스', '아르투르', 'D. 데로시', '뱅자맹 파바르', 'B. 베레신스키', 'S. 엘샤라위', '페르난도 모리엔테스', '?. 멘디', '모지스 사이먼', '로베르 피레스', '쿠아레즈마', '알렉시 랄라스', 'F. 콸리아렐라', '니콜라 페페', '미란다', '해리 매과이어', '후안 마타', '김영권', '소크라티스', 'B. 윌리엄스', '하석주', 'N. 오타멘디', '로이 킨', 'A. 발렌시아', 'J. 토디보', '플로리앙 토뱅', '헨릭 라르손', 'S. 베르흐베인', 'A. 벨로티', '알반 라퐁', '루카 요비치', '디에고 고딘', '후안 콰드라도', '야야 투레', 'J. 오코차', '마리오 괴체', '테디 셰링엄', 'O. 솔샤르', '안정환', 'J. 마스체라노', '니코 슐츠', 'P. 킴펨베', '율리안 브란트', '히카르두 페레이라']\n"
     ]
    }
   ],
   "source": [
    "#추출된 선수들 list로 저장\n",
    "\n",
    "player_counts = extracted_df['name'].value_counts().sort_values(ascending=False).rename_axis('name').reset_index(name='counts')\n",
    "player_counts.head()\n",
    "\n",
    "ext_player_list = []\n",
    "\n",
    "for i in player_counts['name']:\n",
    "    \n",
    "    ext_player_list.append(i)\n",
    "    \n",
    "print(ext_player_list)"
   ]
  },
  {
   "cell_type": "markdown",
   "metadata": {},
   "source": [
    "## 추출된 선수 list에 있는 선수들 검색해서 스텟 크롤링"
   ]
  },
  {
   "cell_type": "code",
   "execution_count": 85,
   "metadata": {
    "scrolled": true
   },
   "outputs": [
    {
     "name": "stderr",
     "output_type": "stream",
     "text": [
      "C:\\ProgramData\\Anaconda3\\lib\\site-packages\\bs4\\__init__.py:181: UserWarning: No parser was explicitly specified, so I'm using the best available HTML parser for this system (\"lxml\"). This usually isn't a problem, but if you run this code on another system, or in a different virtual environment, it may use a different parser and behave differently.\n",
      "\n",
      "The code that caused this warning is on line 193 of the file C:\\ProgramData\\Anaconda3\\lib\\runpy.py. To get rid of this warning, change code that looks like this:\n",
      "\n",
      " BeautifulSoup(YOUR_MARKUP})\n",
      "\n",
      "to this:\n",
      "\n",
      " BeautifulSoup(YOUR_MARKUP, \"lxml\")\n",
      "\n",
      "  markup_type=markup_type))\n"
     ]
    },
    {
     "name": "stdout",
     "output_type": "stream",
     "text": [
      " Multi-League Champions \n",
      "sprintspeed\n",
      "0\n",
      " Team Of The Season 2020 \n",
      "sprintspeed\n",
      "0\n"
     ]
    },
    {
     "ename": "KeyboardInterrupt",
     "evalue": "",
     "output_type": "error",
     "traceback": [
      "\u001b[1;31m---------------------------------------------------------------------------\u001b[0m",
      "\u001b[1;31mTypeError\u001b[0m                                 Traceback (most recent call last)",
      "\u001b[1;32mC:\\ProgramData\\Anaconda3\\lib\\site-packages\\urllib3\\connectionpool.py\u001b[0m in \u001b[0;36m_make_request\u001b[1;34m(self, conn, method, url, timeout, chunked, **httplib_request_kw)\u001b[0m\n\u001b[0;32m    376\u001b[0m             \u001b[1;32mtry\u001b[0m\u001b[1;33m:\u001b[0m  \u001b[1;31m# Python 2.7, use buffering of HTTP responses\u001b[0m\u001b[1;33m\u001b[0m\u001b[1;33m\u001b[0m\u001b[0m\n\u001b[1;32m--> 377\u001b[1;33m                 \u001b[0mhttplib_response\u001b[0m \u001b[1;33m=\u001b[0m \u001b[0mconn\u001b[0m\u001b[1;33m.\u001b[0m\u001b[0mgetresponse\u001b[0m\u001b[1;33m(\u001b[0m\u001b[0mbuffering\u001b[0m\u001b[1;33m=\u001b[0m\u001b[1;32mTrue\u001b[0m\u001b[1;33m)\u001b[0m\u001b[1;33m\u001b[0m\u001b[1;33m\u001b[0m\u001b[0m\n\u001b[0m\u001b[0;32m    378\u001b[0m             \u001b[1;32mexcept\u001b[0m \u001b[0mTypeError\u001b[0m\u001b[1;33m:\u001b[0m  \u001b[1;31m# Python 3\u001b[0m\u001b[1;33m\u001b[0m\u001b[1;33m\u001b[0m\u001b[0m\n",
      "\u001b[1;31mTypeError\u001b[0m: getresponse() got an unexpected keyword argument 'buffering'",
      "\nDuring handling of the above exception, another exception occurred:\n",
      "\u001b[1;31mKeyboardInterrupt\u001b[0m                         Traceback (most recent call last)",
      "\u001b[1;32m<ipython-input-85-e09282f19ff9>\u001b[0m in \u001b[0;36m<module>\u001b[1;34m\u001b[0m\n\u001b[0;32m     55\u001b[0m             \u001b[1;31m#현재 페이지 soup 정보 가져오기\u001b[0m\u001b[1;33m\u001b[0m\u001b[1;33m\u001b[0m\u001b[1;33m\u001b[0m\u001b[0m\n\u001b[0;32m     56\u001b[0m \u001b[1;33m\u001b[0m\u001b[0m\n\u001b[1;32m---> 57\u001b[1;33m         \u001b[0mdriver\u001b[0m\u001b[1;33m.\u001b[0m\u001b[0mfind_element_by_xpath\u001b[0m\u001b[1;33m(\u001b[0m\u001b[1;34m'//*[@id=\"comp-foplayerattr\"]/div[4]/ul/li[1]/label/span/i'\u001b[0m\u001b[1;33m)\u001b[0m\u001b[1;33m.\u001b[0m\u001b[0mclick\u001b[0m\u001b[1;33m(\u001b[0m\u001b[1;33m)\u001b[0m\u001b[1;33m\u001b[0m\u001b[1;33m\u001b[0m\u001b[0m\n\u001b[0m\u001b[0;32m     58\u001b[0m \u001b[1;33m\u001b[0m\u001b[0m\n\u001b[0;32m     59\u001b[0m         \u001b[0murl\u001b[0m \u001b[1;33m=\u001b[0m \u001b[0mdriver\u001b[0m\u001b[1;33m.\u001b[0m\u001b[0mcurrent_url\u001b[0m  \u001b[1;31m#현재 page url주소 가져오기\u001b[0m\u001b[1;33m\u001b[0m\u001b[1;33m\u001b[0m\u001b[0m\n",
      "\u001b[1;32mC:\\ProgramData\\Anaconda3\\lib\\site-packages\\selenium\\webdriver\\remote\\webdriver.py\u001b[0m in \u001b[0;36mfind_element_by_xpath\u001b[1;34m(self, xpath)\u001b[0m\n\u001b[0;32m    392\u001b[0m             \u001b[0melement\u001b[0m \u001b[1;33m=\u001b[0m \u001b[0mdriver\u001b[0m\u001b[1;33m.\u001b[0m\u001b[0mfind_element_by_xpath\u001b[0m\u001b[1;33m(\u001b[0m\u001b[1;34m'//div/td[1]'\u001b[0m\u001b[1;33m)\u001b[0m\u001b[1;33m\u001b[0m\u001b[1;33m\u001b[0m\u001b[0m\n\u001b[0;32m    393\u001b[0m         \"\"\"\n\u001b[1;32m--> 394\u001b[1;33m         \u001b[1;32mreturn\u001b[0m \u001b[0mself\u001b[0m\u001b[1;33m.\u001b[0m\u001b[0mfind_element\u001b[0m\u001b[1;33m(\u001b[0m\u001b[0mby\u001b[0m\u001b[1;33m=\u001b[0m\u001b[0mBy\u001b[0m\u001b[1;33m.\u001b[0m\u001b[0mXPATH\u001b[0m\u001b[1;33m,\u001b[0m \u001b[0mvalue\u001b[0m\u001b[1;33m=\u001b[0m\u001b[0mxpath\u001b[0m\u001b[1;33m)\u001b[0m\u001b[1;33m\u001b[0m\u001b[1;33m\u001b[0m\u001b[0m\n\u001b[0m\u001b[0;32m    395\u001b[0m \u001b[1;33m\u001b[0m\u001b[0m\n\u001b[0;32m    396\u001b[0m     \u001b[1;32mdef\u001b[0m \u001b[0mfind_elements_by_xpath\u001b[0m\u001b[1;33m(\u001b[0m\u001b[0mself\u001b[0m\u001b[1;33m,\u001b[0m \u001b[0mxpath\u001b[0m\u001b[1;33m)\u001b[0m\u001b[1;33m:\u001b[0m\u001b[1;33m\u001b[0m\u001b[1;33m\u001b[0m\u001b[0m\n",
      "\u001b[1;32mC:\\ProgramData\\Anaconda3\\lib\\site-packages\\selenium\\webdriver\\remote\\webdriver.py\u001b[0m in \u001b[0;36mfind_element\u001b[1;34m(self, by, value)\u001b[0m\n\u001b[0;32m    976\u001b[0m         return self.execute(Command.FIND_ELEMENT, {\n\u001b[0;32m    977\u001b[0m             \u001b[1;34m'using'\u001b[0m\u001b[1;33m:\u001b[0m \u001b[0mby\u001b[0m\u001b[1;33m,\u001b[0m\u001b[1;33m\u001b[0m\u001b[1;33m\u001b[0m\u001b[0m\n\u001b[1;32m--> 978\u001b[1;33m             'value': value})['value']\n\u001b[0m\u001b[0;32m    979\u001b[0m \u001b[1;33m\u001b[0m\u001b[0m\n\u001b[0;32m    980\u001b[0m     \u001b[1;32mdef\u001b[0m \u001b[0mfind_elements\u001b[0m\u001b[1;33m(\u001b[0m\u001b[0mself\u001b[0m\u001b[1;33m,\u001b[0m \u001b[0mby\u001b[0m\u001b[1;33m=\u001b[0m\u001b[0mBy\u001b[0m\u001b[1;33m.\u001b[0m\u001b[0mID\u001b[0m\u001b[1;33m,\u001b[0m \u001b[0mvalue\u001b[0m\u001b[1;33m=\u001b[0m\u001b[1;32mNone\u001b[0m\u001b[1;33m)\u001b[0m\u001b[1;33m:\u001b[0m\u001b[1;33m\u001b[0m\u001b[1;33m\u001b[0m\u001b[0m\n",
      "\u001b[1;32mC:\\ProgramData\\Anaconda3\\lib\\site-packages\\selenium\\webdriver\\remote\\webdriver.py\u001b[0m in \u001b[0;36mexecute\u001b[1;34m(self, driver_command, params)\u001b[0m\n\u001b[0;32m    317\u001b[0m \u001b[1;33m\u001b[0m\u001b[0m\n\u001b[0;32m    318\u001b[0m         \u001b[0mparams\u001b[0m \u001b[1;33m=\u001b[0m \u001b[0mself\u001b[0m\u001b[1;33m.\u001b[0m\u001b[0m_wrap_value\u001b[0m\u001b[1;33m(\u001b[0m\u001b[0mparams\u001b[0m\u001b[1;33m)\u001b[0m\u001b[1;33m\u001b[0m\u001b[1;33m\u001b[0m\u001b[0m\n\u001b[1;32m--> 319\u001b[1;33m         \u001b[0mresponse\u001b[0m \u001b[1;33m=\u001b[0m \u001b[0mself\u001b[0m\u001b[1;33m.\u001b[0m\u001b[0mcommand_executor\u001b[0m\u001b[1;33m.\u001b[0m\u001b[0mexecute\u001b[0m\u001b[1;33m(\u001b[0m\u001b[0mdriver_command\u001b[0m\u001b[1;33m,\u001b[0m \u001b[0mparams\u001b[0m\u001b[1;33m)\u001b[0m\u001b[1;33m\u001b[0m\u001b[1;33m\u001b[0m\u001b[0m\n\u001b[0m\u001b[0;32m    320\u001b[0m         \u001b[1;32mif\u001b[0m \u001b[0mresponse\u001b[0m\u001b[1;33m:\u001b[0m\u001b[1;33m\u001b[0m\u001b[1;33m\u001b[0m\u001b[0m\n\u001b[0;32m    321\u001b[0m             \u001b[0mself\u001b[0m\u001b[1;33m.\u001b[0m\u001b[0merror_handler\u001b[0m\u001b[1;33m.\u001b[0m\u001b[0mcheck_response\u001b[0m\u001b[1;33m(\u001b[0m\u001b[0mresponse\u001b[0m\u001b[1;33m)\u001b[0m\u001b[1;33m\u001b[0m\u001b[1;33m\u001b[0m\u001b[0m\n",
      "\u001b[1;32mC:\\ProgramData\\Anaconda3\\lib\\site-packages\\selenium\\webdriver\\remote\\remote_connection.py\u001b[0m in \u001b[0;36mexecute\u001b[1;34m(self, command, params)\u001b[0m\n\u001b[0;32m    372\u001b[0m         \u001b[0mdata\u001b[0m \u001b[1;33m=\u001b[0m \u001b[0mutils\u001b[0m\u001b[1;33m.\u001b[0m\u001b[0mdump_json\u001b[0m\u001b[1;33m(\u001b[0m\u001b[0mparams\u001b[0m\u001b[1;33m)\u001b[0m\u001b[1;33m\u001b[0m\u001b[1;33m\u001b[0m\u001b[0m\n\u001b[0;32m    373\u001b[0m         \u001b[0murl\u001b[0m \u001b[1;33m=\u001b[0m \u001b[1;34m'%s%s'\u001b[0m \u001b[1;33m%\u001b[0m \u001b[1;33m(\u001b[0m\u001b[0mself\u001b[0m\u001b[1;33m.\u001b[0m\u001b[0m_url\u001b[0m\u001b[1;33m,\u001b[0m \u001b[0mpath\u001b[0m\u001b[1;33m)\u001b[0m\u001b[1;33m\u001b[0m\u001b[1;33m\u001b[0m\u001b[0m\n\u001b[1;32m--> 374\u001b[1;33m         \u001b[1;32mreturn\u001b[0m \u001b[0mself\u001b[0m\u001b[1;33m.\u001b[0m\u001b[0m_request\u001b[0m\u001b[1;33m(\u001b[0m\u001b[0mcommand_info\u001b[0m\u001b[1;33m[\u001b[0m\u001b[1;36m0\u001b[0m\u001b[1;33m]\u001b[0m\u001b[1;33m,\u001b[0m \u001b[0murl\u001b[0m\u001b[1;33m,\u001b[0m \u001b[0mbody\u001b[0m\u001b[1;33m=\u001b[0m\u001b[0mdata\u001b[0m\u001b[1;33m)\u001b[0m\u001b[1;33m\u001b[0m\u001b[1;33m\u001b[0m\u001b[0m\n\u001b[0m\u001b[0;32m    375\u001b[0m \u001b[1;33m\u001b[0m\u001b[0m\n\u001b[0;32m    376\u001b[0m     \u001b[1;32mdef\u001b[0m \u001b[0m_request\u001b[0m\u001b[1;33m(\u001b[0m\u001b[0mself\u001b[0m\u001b[1;33m,\u001b[0m \u001b[0mmethod\u001b[0m\u001b[1;33m,\u001b[0m \u001b[0murl\u001b[0m\u001b[1;33m,\u001b[0m \u001b[0mbody\u001b[0m\u001b[1;33m=\u001b[0m\u001b[1;32mNone\u001b[0m\u001b[1;33m)\u001b[0m\u001b[1;33m:\u001b[0m\u001b[1;33m\u001b[0m\u001b[1;33m\u001b[0m\u001b[0m\n",
      "\u001b[1;32mC:\\ProgramData\\Anaconda3\\lib\\site-packages\\selenium\\webdriver\\remote\\remote_connection.py\u001b[0m in \u001b[0;36m_request\u001b[1;34m(self, method, url, body)\u001b[0m\n\u001b[0;32m    395\u001b[0m \u001b[1;33m\u001b[0m\u001b[0m\n\u001b[0;32m    396\u001b[0m         \u001b[1;32mif\u001b[0m \u001b[0mself\u001b[0m\u001b[1;33m.\u001b[0m\u001b[0mkeep_alive\u001b[0m\u001b[1;33m:\u001b[0m\u001b[1;33m\u001b[0m\u001b[1;33m\u001b[0m\u001b[0m\n\u001b[1;32m--> 397\u001b[1;33m             \u001b[0mresp\u001b[0m \u001b[1;33m=\u001b[0m \u001b[0mself\u001b[0m\u001b[1;33m.\u001b[0m\u001b[0m_conn\u001b[0m\u001b[1;33m.\u001b[0m\u001b[0mrequest\u001b[0m\u001b[1;33m(\u001b[0m\u001b[0mmethod\u001b[0m\u001b[1;33m,\u001b[0m \u001b[0murl\u001b[0m\u001b[1;33m,\u001b[0m \u001b[0mbody\u001b[0m\u001b[1;33m=\u001b[0m\u001b[0mbody\u001b[0m\u001b[1;33m,\u001b[0m \u001b[0mheaders\u001b[0m\u001b[1;33m=\u001b[0m\u001b[0mheaders\u001b[0m\u001b[1;33m)\u001b[0m\u001b[1;33m\u001b[0m\u001b[1;33m\u001b[0m\u001b[0m\n\u001b[0m\u001b[0;32m    398\u001b[0m \u001b[1;33m\u001b[0m\u001b[0m\n\u001b[0;32m    399\u001b[0m             \u001b[0mstatuscode\u001b[0m \u001b[1;33m=\u001b[0m \u001b[0mresp\u001b[0m\u001b[1;33m.\u001b[0m\u001b[0mstatus\u001b[0m\u001b[1;33m\u001b[0m\u001b[1;33m\u001b[0m\u001b[0m\n",
      "\u001b[1;32mC:\\ProgramData\\Anaconda3\\lib\\site-packages\\urllib3\\request.py\u001b[0m in \u001b[0;36mrequest\u001b[1;34m(self, method, url, fields, headers, **urlopen_kw)\u001b[0m\n\u001b[0;32m     70\u001b[0m             return self.request_encode_body(method, url, fields=fields,\n\u001b[0;32m     71\u001b[0m                                             \u001b[0mheaders\u001b[0m\u001b[1;33m=\u001b[0m\u001b[0mheaders\u001b[0m\u001b[1;33m,\u001b[0m\u001b[1;33m\u001b[0m\u001b[1;33m\u001b[0m\u001b[0m\n\u001b[1;32m---> 72\u001b[1;33m                                             **urlopen_kw)\n\u001b[0m\u001b[0;32m     73\u001b[0m \u001b[1;33m\u001b[0m\u001b[0m\n\u001b[0;32m     74\u001b[0m     def request_encode_url(self, method, url, fields=None, headers=None,\n",
      "\u001b[1;32mC:\\ProgramData\\Anaconda3\\lib\\site-packages\\urllib3\\request.py\u001b[0m in \u001b[0;36mrequest_encode_body\u001b[1;34m(self, method, url, fields, headers, encode_multipart, multipart_boundary, **urlopen_kw)\u001b[0m\n\u001b[0;32m    148\u001b[0m         \u001b[0mextra_kw\u001b[0m\u001b[1;33m.\u001b[0m\u001b[0mupdate\u001b[0m\u001b[1;33m(\u001b[0m\u001b[0murlopen_kw\u001b[0m\u001b[1;33m)\u001b[0m\u001b[1;33m\u001b[0m\u001b[1;33m\u001b[0m\u001b[0m\n\u001b[0;32m    149\u001b[0m \u001b[1;33m\u001b[0m\u001b[0m\n\u001b[1;32m--> 150\u001b[1;33m         \u001b[1;32mreturn\u001b[0m \u001b[0mself\u001b[0m\u001b[1;33m.\u001b[0m\u001b[0murlopen\u001b[0m\u001b[1;33m(\u001b[0m\u001b[0mmethod\u001b[0m\u001b[1;33m,\u001b[0m \u001b[0murl\u001b[0m\u001b[1;33m,\u001b[0m \u001b[1;33m**\u001b[0m\u001b[0mextra_kw\u001b[0m\u001b[1;33m)\u001b[0m\u001b[1;33m\u001b[0m\u001b[1;33m\u001b[0m\u001b[0m\n\u001b[0m",
      "\u001b[1;32mC:\\ProgramData\\Anaconda3\\lib\\site-packages\\urllib3\\poolmanager.py\u001b[0m in \u001b[0;36murlopen\u001b[1;34m(self, method, url, redirect, **kw)\u001b[0m\n\u001b[0;32m    321\u001b[0m             \u001b[0mresponse\u001b[0m \u001b[1;33m=\u001b[0m \u001b[0mconn\u001b[0m\u001b[1;33m.\u001b[0m\u001b[0murlopen\u001b[0m\u001b[1;33m(\u001b[0m\u001b[0mmethod\u001b[0m\u001b[1;33m,\u001b[0m \u001b[0murl\u001b[0m\u001b[1;33m,\u001b[0m \u001b[1;33m**\u001b[0m\u001b[0mkw\u001b[0m\u001b[1;33m)\u001b[0m\u001b[1;33m\u001b[0m\u001b[1;33m\u001b[0m\u001b[0m\n\u001b[0;32m    322\u001b[0m         \u001b[1;32melse\u001b[0m\u001b[1;33m:\u001b[0m\u001b[1;33m\u001b[0m\u001b[1;33m\u001b[0m\u001b[0m\n\u001b[1;32m--> 323\u001b[1;33m             \u001b[0mresponse\u001b[0m \u001b[1;33m=\u001b[0m \u001b[0mconn\u001b[0m\u001b[1;33m.\u001b[0m\u001b[0murlopen\u001b[0m\u001b[1;33m(\u001b[0m\u001b[0mmethod\u001b[0m\u001b[1;33m,\u001b[0m \u001b[0mu\u001b[0m\u001b[1;33m.\u001b[0m\u001b[0mrequest_uri\u001b[0m\u001b[1;33m,\u001b[0m \u001b[1;33m**\u001b[0m\u001b[0mkw\u001b[0m\u001b[1;33m)\u001b[0m\u001b[1;33m\u001b[0m\u001b[1;33m\u001b[0m\u001b[0m\n\u001b[0m\u001b[0;32m    324\u001b[0m \u001b[1;33m\u001b[0m\u001b[0m\n\u001b[0;32m    325\u001b[0m         \u001b[0mredirect_location\u001b[0m \u001b[1;33m=\u001b[0m \u001b[0mredirect\u001b[0m \u001b[1;32mand\u001b[0m \u001b[0mresponse\u001b[0m\u001b[1;33m.\u001b[0m\u001b[0mget_redirect_location\u001b[0m\u001b[1;33m(\u001b[0m\u001b[1;33m)\u001b[0m\u001b[1;33m\u001b[0m\u001b[1;33m\u001b[0m\u001b[0m\n",
      "\u001b[1;32mC:\\ProgramData\\Anaconda3\\lib\\site-packages\\urllib3\\connectionpool.py\u001b[0m in \u001b[0;36murlopen\u001b[1;34m(self, method, url, body, headers, retries, redirect, assert_same_host, timeout, pool_timeout, release_conn, chunked, body_pos, **response_kw)\u001b[0m\n\u001b[0;32m    598\u001b[0m                                                   \u001b[0mtimeout\u001b[0m\u001b[1;33m=\u001b[0m\u001b[0mtimeout_obj\u001b[0m\u001b[1;33m,\u001b[0m\u001b[1;33m\u001b[0m\u001b[1;33m\u001b[0m\u001b[0m\n\u001b[0;32m    599\u001b[0m                                                   \u001b[0mbody\u001b[0m\u001b[1;33m=\u001b[0m\u001b[0mbody\u001b[0m\u001b[1;33m,\u001b[0m \u001b[0mheaders\u001b[0m\u001b[1;33m=\u001b[0m\u001b[0mheaders\u001b[0m\u001b[1;33m,\u001b[0m\u001b[1;33m\u001b[0m\u001b[1;33m\u001b[0m\u001b[0m\n\u001b[1;32m--> 600\u001b[1;33m                                                   chunked=chunked)\n\u001b[0m\u001b[0;32m    601\u001b[0m \u001b[1;33m\u001b[0m\u001b[0m\n\u001b[0;32m    602\u001b[0m             \u001b[1;31m# If we're going to release the connection in ``finally:``, then\u001b[0m\u001b[1;33m\u001b[0m\u001b[1;33m\u001b[0m\u001b[1;33m\u001b[0m\u001b[0m\n",
      "\u001b[1;32mC:\\ProgramData\\Anaconda3\\lib\\site-packages\\urllib3\\connectionpool.py\u001b[0m in \u001b[0;36m_make_request\u001b[1;34m(self, conn, method, url, timeout, chunked, **httplib_request_kw)\u001b[0m\n\u001b[0;32m    378\u001b[0m             \u001b[1;32mexcept\u001b[0m \u001b[0mTypeError\u001b[0m\u001b[1;33m:\u001b[0m  \u001b[1;31m# Python 3\u001b[0m\u001b[1;33m\u001b[0m\u001b[1;33m\u001b[0m\u001b[0m\n\u001b[0;32m    379\u001b[0m                 \u001b[1;32mtry\u001b[0m\u001b[1;33m:\u001b[0m\u001b[1;33m\u001b[0m\u001b[1;33m\u001b[0m\u001b[0m\n\u001b[1;32m--> 380\u001b[1;33m                     \u001b[0mhttplib_response\u001b[0m \u001b[1;33m=\u001b[0m \u001b[0mconn\u001b[0m\u001b[1;33m.\u001b[0m\u001b[0mgetresponse\u001b[0m\u001b[1;33m(\u001b[0m\u001b[1;33m)\u001b[0m\u001b[1;33m\u001b[0m\u001b[1;33m\u001b[0m\u001b[0m\n\u001b[0m\u001b[0;32m    381\u001b[0m                 \u001b[1;32mexcept\u001b[0m \u001b[0mException\u001b[0m \u001b[1;32mas\u001b[0m \u001b[0me\u001b[0m\u001b[1;33m:\u001b[0m\u001b[1;33m\u001b[0m\u001b[1;33m\u001b[0m\u001b[0m\n\u001b[0;32m    382\u001b[0m                     \u001b[1;31m# Remove the TypeError from the exception chain in Python 3;\u001b[0m\u001b[1;33m\u001b[0m\u001b[1;33m\u001b[0m\u001b[1;33m\u001b[0m\u001b[0m\n",
      "\u001b[1;32mC:\\ProgramData\\Anaconda3\\lib\\http\\client.py\u001b[0m in \u001b[0;36mgetresponse\u001b[1;34m(self)\u001b[0m\n\u001b[0;32m   1319\u001b[0m         \u001b[1;32mtry\u001b[0m\u001b[1;33m:\u001b[0m\u001b[1;33m\u001b[0m\u001b[1;33m\u001b[0m\u001b[0m\n\u001b[0;32m   1320\u001b[0m             \u001b[1;32mtry\u001b[0m\u001b[1;33m:\u001b[0m\u001b[1;33m\u001b[0m\u001b[1;33m\u001b[0m\u001b[0m\n\u001b[1;32m-> 1321\u001b[1;33m                 \u001b[0mresponse\u001b[0m\u001b[1;33m.\u001b[0m\u001b[0mbegin\u001b[0m\u001b[1;33m(\u001b[0m\u001b[1;33m)\u001b[0m\u001b[1;33m\u001b[0m\u001b[1;33m\u001b[0m\u001b[0m\n\u001b[0m\u001b[0;32m   1322\u001b[0m             \u001b[1;32mexcept\u001b[0m \u001b[0mConnectionError\u001b[0m\u001b[1;33m:\u001b[0m\u001b[1;33m\u001b[0m\u001b[1;33m\u001b[0m\u001b[0m\n\u001b[0;32m   1323\u001b[0m                 \u001b[0mself\u001b[0m\u001b[1;33m.\u001b[0m\u001b[0mclose\u001b[0m\u001b[1;33m(\u001b[0m\u001b[1;33m)\u001b[0m\u001b[1;33m\u001b[0m\u001b[1;33m\u001b[0m\u001b[0m\n",
      "\u001b[1;32mC:\\ProgramData\\Anaconda3\\lib\\http\\client.py\u001b[0m in \u001b[0;36mbegin\u001b[1;34m(self)\u001b[0m\n\u001b[0;32m    294\u001b[0m         \u001b[1;31m# read until we get a non-100 response\u001b[0m\u001b[1;33m\u001b[0m\u001b[1;33m\u001b[0m\u001b[1;33m\u001b[0m\u001b[0m\n\u001b[0;32m    295\u001b[0m         \u001b[1;32mwhile\u001b[0m \u001b[1;32mTrue\u001b[0m\u001b[1;33m:\u001b[0m\u001b[1;33m\u001b[0m\u001b[1;33m\u001b[0m\u001b[0m\n\u001b[1;32m--> 296\u001b[1;33m             \u001b[0mversion\u001b[0m\u001b[1;33m,\u001b[0m \u001b[0mstatus\u001b[0m\u001b[1;33m,\u001b[0m \u001b[0mreason\u001b[0m \u001b[1;33m=\u001b[0m \u001b[0mself\u001b[0m\u001b[1;33m.\u001b[0m\u001b[0m_read_status\u001b[0m\u001b[1;33m(\u001b[0m\u001b[1;33m)\u001b[0m\u001b[1;33m\u001b[0m\u001b[1;33m\u001b[0m\u001b[0m\n\u001b[0m\u001b[0;32m    297\u001b[0m             \u001b[1;32mif\u001b[0m \u001b[0mstatus\u001b[0m \u001b[1;33m!=\u001b[0m \u001b[0mCONTINUE\u001b[0m\u001b[1;33m:\u001b[0m\u001b[1;33m\u001b[0m\u001b[1;33m\u001b[0m\u001b[0m\n\u001b[0;32m    298\u001b[0m                 \u001b[1;32mbreak\u001b[0m\u001b[1;33m\u001b[0m\u001b[1;33m\u001b[0m\u001b[0m\n",
      "\u001b[1;32mC:\\ProgramData\\Anaconda3\\lib\\http\\client.py\u001b[0m in \u001b[0;36m_read_status\u001b[1;34m(self)\u001b[0m\n\u001b[0;32m    255\u001b[0m \u001b[1;33m\u001b[0m\u001b[0m\n\u001b[0;32m    256\u001b[0m     \u001b[1;32mdef\u001b[0m \u001b[0m_read_status\u001b[0m\u001b[1;33m(\u001b[0m\u001b[0mself\u001b[0m\u001b[1;33m)\u001b[0m\u001b[1;33m:\u001b[0m\u001b[1;33m\u001b[0m\u001b[1;33m\u001b[0m\u001b[0m\n\u001b[1;32m--> 257\u001b[1;33m         \u001b[0mline\u001b[0m \u001b[1;33m=\u001b[0m \u001b[0mstr\u001b[0m\u001b[1;33m(\u001b[0m\u001b[0mself\u001b[0m\u001b[1;33m.\u001b[0m\u001b[0mfp\u001b[0m\u001b[1;33m.\u001b[0m\u001b[0mreadline\u001b[0m\u001b[1;33m(\u001b[0m\u001b[0m_MAXLINE\u001b[0m \u001b[1;33m+\u001b[0m \u001b[1;36m1\u001b[0m\u001b[1;33m)\u001b[0m\u001b[1;33m,\u001b[0m \u001b[1;34m\"iso-8859-1\"\u001b[0m\u001b[1;33m)\u001b[0m\u001b[1;33m\u001b[0m\u001b[1;33m\u001b[0m\u001b[0m\n\u001b[0m\u001b[0;32m    258\u001b[0m         \u001b[1;32mif\u001b[0m \u001b[0mlen\u001b[0m\u001b[1;33m(\u001b[0m\u001b[0mline\u001b[0m\u001b[1;33m)\u001b[0m \u001b[1;33m>\u001b[0m \u001b[0m_MAXLINE\u001b[0m\u001b[1;33m:\u001b[0m\u001b[1;33m\u001b[0m\u001b[1;33m\u001b[0m\u001b[0m\n\u001b[0;32m    259\u001b[0m             \u001b[1;32mraise\u001b[0m \u001b[0mLineTooLong\u001b[0m\u001b[1;33m(\u001b[0m\u001b[1;34m\"status line\"\u001b[0m\u001b[1;33m)\u001b[0m\u001b[1;33m\u001b[0m\u001b[1;33m\u001b[0m\u001b[0m\n",
      "\u001b[1;32mC:\\ProgramData\\Anaconda3\\lib\\socket.py\u001b[0m in \u001b[0;36mreadinto\u001b[1;34m(self, b)\u001b[0m\n\u001b[0;32m    587\u001b[0m         \u001b[1;32mwhile\u001b[0m \u001b[1;32mTrue\u001b[0m\u001b[1;33m:\u001b[0m\u001b[1;33m\u001b[0m\u001b[1;33m\u001b[0m\u001b[0m\n\u001b[0;32m    588\u001b[0m             \u001b[1;32mtry\u001b[0m\u001b[1;33m:\u001b[0m\u001b[1;33m\u001b[0m\u001b[1;33m\u001b[0m\u001b[0m\n\u001b[1;32m--> 589\u001b[1;33m                 \u001b[1;32mreturn\u001b[0m \u001b[0mself\u001b[0m\u001b[1;33m.\u001b[0m\u001b[0m_sock\u001b[0m\u001b[1;33m.\u001b[0m\u001b[0mrecv_into\u001b[0m\u001b[1;33m(\u001b[0m\u001b[0mb\u001b[0m\u001b[1;33m)\u001b[0m\u001b[1;33m\u001b[0m\u001b[1;33m\u001b[0m\u001b[0m\n\u001b[0m\u001b[0;32m    590\u001b[0m             \u001b[1;32mexcept\u001b[0m \u001b[0mtimeout\u001b[0m\u001b[1;33m:\u001b[0m\u001b[1;33m\u001b[0m\u001b[1;33m\u001b[0m\u001b[0m\n\u001b[0;32m    591\u001b[0m                 \u001b[0mself\u001b[0m\u001b[1;33m.\u001b[0m\u001b[0m_timeout_occurred\u001b[0m \u001b[1;33m=\u001b[0m \u001b[1;32mTrue\u001b[0m\u001b[1;33m\u001b[0m\u001b[1;33m\u001b[0m\u001b[0m\n",
      "\u001b[1;31mKeyboardInterrupt\u001b[0m: "
     ]
    }
   ],
   "source": [
    "import os\n",
    "import requests\n",
    "from selenium import webdriver\n",
    "from bs4 import BeautifulSoup as bs\n",
    "import time\n",
    "from selenium.webdriver.common.keys import Keys\n",
    "import pandas as pd\n",
    "\n",
    "\n",
    "driver_path = './chromedriver'\n",
    "driver = webdriver.Chrome(driver_path)\n",
    "driver.implicitly_wait(2)\n",
    "\n",
    "url = 'https://kr.fifaaddict.com/' \n",
    "driver.get(url)  #첫 페이지 실행\n",
    "           \n",
    "res = requests.get(url)\n",
    "soup = bs(res.text)\n",
    "\n",
    "\n",
    "\n",
    "\n",
    "\n",
    "for player in ext_player_list:\n",
    "    \n",
    "    #선수 입력 & 엔터\n",
    "    element = driver.find_element_by_xpath('//*[@id=\"fosPlayerName\"]')\n",
    "    element.send_keys(player)\n",
    "    time.sleep(2)\n",
    "    \n",
    "    element.submit()   #enter\n",
    "    time.sleep(2)\n",
    "    \n",
    "    \n",
    "    # 검색한 선수 정보 한개씩 클릭\n",
    "  \n",
    "    season_path = '/html/body/div[1]/div/div/div[2]/div/div[2]/div/div[3]/table/tbody/tr[{}]/td[2]/div/a'\n",
    "    \n",
    "    \n",
    "    i=1\n",
    "    while True:\n",
    "        \n",
    "        try:\n",
    "            driver.find_element_by_xpath(season_path.format(i)).click()  #i번째 시즌 정보 클릭\n",
    "            time.sleep(2)\n",
    "            \n",
    "            i+=1\n",
    "         \n",
    "        except:\n",
    "            #다음 시즌 click이 없을경우 while문 빠져나와서 다른 선수 입력하러 가야함\n",
    "            print('클릭 시즌 없음', player, '완료')\n",
    "            break\n",
    "           \n",
    "        #시즌 정보 화면에서 스텟정보 가져오기\n",
    "            #현재 페이지 soup 정보 가져오기\n",
    "        \n",
    "        driver.find_element_by_xpath('//*[@id=\"comp-foplayerattr\"]/div[4]/ul/li[1]/label/span/i').click()\n",
    "        \n",
    "        url = driver.current_url  #현재 page url주소 가져오기\n",
    "        res = requests.get(url)\n",
    "        soup = bs(res.text)       #현재 페이지 soup 정보\n",
    "        \n",
    "        \n",
    "        season_info = soup.find('span', {'class' : 'season_name'}).get_text()   #시즌 이름\n",
    "\n",
    "        print(season_info)\n",
    "    \n",
    "        stat_name = soup.select('div.attrwrap li span.name')[0].get_text()\n",
    "        print(stat_name)\n",
    "        stat_value = soup.select('div.attrwrap li span.value')[0].get_text()\n",
    "        print(stat_value)\n",
    "                                                               \n",
    "                                                                         \n",
    "        \n",
    "        \n",
    "        \n",
    "        \n",
    "        driver.back()\n",
    "        time.sleep(2)\n",
    "        \n",
    "        \n",
    "            \n",
    "    #다음 선수 입력 & 검색\n",
    "    element = driver.find_element_by_xpath('//*[@id=\"fosPlayerName\"]')\n",
    "    element.clear()  #검색창 지우기\n",
    "\n",
    "\n",
    "driver.quit()"
   ]
  },
  {
   "cell_type": "code",
   "execution_count": 78,
   "metadata": {},
   "outputs": [
    {
     "data": {
      "text/plain": [
       "'sprintspeed'"
      ]
     },
     "execution_count": 78,
     "metadata": {},
     "output_type": "execute_result"
    }
   ],
   "source": [
    "stat_name_value.get_text()"
   ]
  },
  {
   "cell_type": "code",
   "execution_count": 86,
   "metadata": {},
   "outputs": [
    {
     "data": {
      "text/plain": [
       "[<span class=\"name\">스피드</span>,\n",
       " <span class=\"name\">슛</span>,\n",
       " <span class=\"name\">패스</span>,\n",
       " <span class=\"name\">드리블</span>,\n",
       " <span class=\"name\">수비</span>,\n",
       " <span class=\"name\">피지컬</span>,\n",
       " <span class=\"name\"><i class=\"posbg ovr\">OVR</i></span>,\n",
       " <span class=\"name\"><i class=\"posbg st\">ST</i></span>,\n",
       " <span class=\"name\"><i class=\"posbg rw\">L/RW</i></span>,\n",
       " <span class=\"name\"><i class=\"posbg cf\">CF</i></span>,\n",
       " <span class=\"name\"><i class=\"posbg cam\">CAM</i></span>,\n",
       " <span class=\"name\"><i class=\"posbg rm\">L/RM</i></span>,\n",
       " <span class=\"name\"><i class=\"posbg cm\">CM</i></span>,\n",
       " <span class=\"name\"><i class=\"posbg cdm\">CDM</i></span>,\n",
       " <span class=\"name\"><i class=\"posbg rwb\">L/RWB</i></span>,\n",
       " <span class=\"name\"><i class=\"posbg rb\">L/RB</i></span>,\n",
       " <span class=\"name\"><i class=\"posbg cb\">CB</i></span>,\n",
       " <span class=\"name\"><i class=\"posbg gk\">GK</i></span>,\n",
       " <span class=\"name\"><span class=\"lineskeleton\"><span class=\"textattr\">sprintspeed</span></span></span>,\n",
       " <span class=\"name\"><span class=\"lineskeleton\"><span class=\"textattr\">acceleration</span></span></span>,\n",
       " <span class=\"name\"><span class=\"lineskeleton\"><span class=\"textattr\">finishing</span></span></span>,\n",
       " <span class=\"name\"><span class=\"lineskeleton\"><span class=\"textattr\">shotpower</span></span></span>,\n",
       " <span class=\"name\"><span class=\"lineskeleton\"><span class=\"textattr\">longshots</span></span></span>,\n",
       " <span class=\"name\"><span class=\"lineskeleton\"><span class=\"textattr\">positioning</span></span></span>,\n",
       " <span class=\"name\"><span class=\"lineskeleton\"><span class=\"textattr\">volleys</span></span></span>,\n",
       " <span class=\"name\"><span class=\"lineskeleton\"><span class=\"textattr\">penalties</span></span></span>,\n",
       " <span class=\"name\"><span class=\"lineskeleton\"><span class=\"textattr\">shortpassing</span></span></span>,\n",
       " <span class=\"name\"><span class=\"lineskeleton\"><span class=\"textattr\">vision</span></span></span>,\n",
       " <span class=\"name\"><span class=\"lineskeleton\"><span class=\"textattr\">crossing</span></span></span>,\n",
       " <span class=\"name\"><span class=\"lineskeleton\"><span class=\"textattr\">longpassing</span></span></span>,\n",
       " <span class=\"name\"><span class=\"lineskeleton\"><span class=\"textattr\">freekickaccuracy</span></span></span>,\n",
       " <span class=\"name\"><span class=\"lineskeleton\"><span class=\"textattr\">curve</span></span></span>,\n",
       " <span class=\"name\"><span class=\"lineskeleton\"><span class=\"textattr\">dribbling</span></span></span>,\n",
       " <span class=\"name\"><span class=\"lineskeleton\"><span class=\"textattr\">ballcontrol</span></span></span>,\n",
       " <span class=\"name\"><span class=\"lineskeleton\"><span class=\"textattr\">agility</span></span></span>,\n",
       " <span class=\"name\"><span class=\"lineskeleton\"><span class=\"textattr\">balance</span></span></span>,\n",
       " <span class=\"name\"><span class=\"lineskeleton\"><span class=\"textattr\">reactions</span></span></span>,\n",
       " <span class=\"name\"><span class=\"lineskeleton\"><span class=\"textattr\">marking</span></span></span>,\n",
       " <span class=\"name\"><span class=\"lineskeleton\"><span class=\"textattr\">standingtackle</span></span></span>,\n",
       " <span class=\"name\"><span class=\"lineskeleton\"><span class=\"textattr\">interceptions</span></span></span>,\n",
       " <span class=\"name\"><span class=\"lineskeleton\"><span class=\"textattr\">headingaccuracy</span></span></span>,\n",
       " <span class=\"name\"><span class=\"lineskeleton\"><span class=\"textattr\">slidingtackle</span></span></span>,\n",
       " <span class=\"name\"><span class=\"lineskeleton\"><span class=\"textattr\">strength</span></span></span>,\n",
       " <span class=\"name\"><span class=\"lineskeleton\"><span class=\"textattr\">stamina</span></span></span>,\n",
       " <span class=\"name\"><span class=\"lineskeleton\"><span class=\"textattr\">aggression</span></span></span>,\n",
       " <span class=\"name\"><span class=\"lineskeleton\"><span class=\"textattr\">jumping</span></span></span>,\n",
       " <span class=\"name\"><span class=\"lineskeleton\"><span class=\"textattr\">composure</span></span></span>,\n",
       " <span class=\"name\"><span class=\"lineskeleton\"><span class=\"textattr\">gkdiving</span></span></span>,\n",
       " <span class=\"name\"><span class=\"lineskeleton\"><span class=\"textattr\">gkhandling</span></span></span>,\n",
       " <span class=\"name\"><span class=\"lineskeleton\"><span class=\"textattr\">gkkicking</span></span></span>,\n",
       " <span class=\"name\"><span class=\"lineskeleton\"><span class=\"textattr\">gkreflexes</span></span></span>,\n",
       " <span class=\"name\"><span class=\"lineskeleton\"><span class=\"textattr\">gkpositioning</span></span></span>,\n",
       " <span class=\"name\">Potential</span>,\n",
       " <span class=\"name\">AttributesPoints</span>]"
      ]
     },
     "execution_count": 86,
     "metadata": {},
     "output_type": "execute_result"
    }
   ],
   "source": [
    "soup.find_all('span', {'class' : 'name'})"
   ]
  },
  {
   "cell_type": "code",
   "execution_count": 87,
   "metadata": {},
   "outputs": [
    {
     "data": {
      "text/plain": [
       "[<span class=\"value\">Legendary</span>,\n",
       " <span class=\"value\"><span class=\"lineskeleton\"><span class=\"textattr\">0</span></span></span>,\n",
       " <span class=\"value\"><span class=\"lineskeleton\"><span class=\"textattr\">0</span></span></span>,\n",
       " <span class=\"value\"><span class=\"lineskeleton\"><span class=\"textattr\">0</span></span></span>,\n",
       " <span class=\"value\"><span class=\"lineskeleton\"><span class=\"textattr\">0</span></span></span>,\n",
       " <span class=\"value\"><span class=\"lineskeleton\"><span class=\"textattr\">0</span></span></span>,\n",
       " <span class=\"value\"><span class=\"lineskeleton\"><span class=\"textattr\">0</span></span></span>,\n",
       " <span class=\"value\"><span class=\"lineskeleton\"><span class=\"textattr\">0</span></span></span>,\n",
       " <span class=\"value\"><span class=\"lineskeleton\"><span class=\"textattr\">0</span></span></span>,\n",
       " <span class=\"value\"><span class=\"lineskeleton\"><span class=\"textattr\">0</span></span></span>,\n",
       " <span class=\"value\"><span class=\"lineskeleton\"><span class=\"textattr\">0</span></span></span>,\n",
       " <span class=\"value\"><span class=\"lineskeleton\"><span class=\"textattr\">0</span></span></span>,\n",
       " <span class=\"value\"><span class=\"lineskeleton\"><span class=\"textattr\">0</span></span></span>,\n",
       " <span class=\"value\"><span class=\"lineskeleton\"><span class=\"textattr\">0</span></span></span>,\n",
       " <span class=\"value\"><span class=\"lineskeleton\"><span class=\"textattr\">0</span></span></span>,\n",
       " <span class=\"value\"><span class=\"lineskeleton\"><span class=\"textattr\">0</span></span></span>,\n",
       " <span class=\"value\"><span class=\"lineskeleton\"><span class=\"textattr\">0</span></span></span>,\n",
       " <span class=\"value\"><span class=\"lineskeleton\"><span class=\"textattr\">0</span></span></span>,\n",
       " <span class=\"value\"><span class=\"lineskeleton\"><span class=\"textattr\">0</span></span></span>,\n",
       " <span class=\"value\"><span class=\"lineskeleton\"><span class=\"textattr\">0</span></span></span>,\n",
       " <span class=\"value\"><span class=\"lineskeleton\"><span class=\"textattr\">0</span></span></span>,\n",
       " <span class=\"value\"><span class=\"lineskeleton\"><span class=\"textattr\">0</span></span></span>,\n",
       " <span class=\"value\"><span class=\"lineskeleton\"><span class=\"textattr\">0</span></span></span>,\n",
       " <span class=\"value\"><span class=\"lineskeleton\"><span class=\"textattr\">0</span></span></span>,\n",
       " <span class=\"value\"><span class=\"lineskeleton\"><span class=\"textattr\">0</span></span></span>,\n",
       " <span class=\"value\"><span class=\"lineskeleton\"><span class=\"textattr\">0</span></span></span>,\n",
       " <span class=\"value\"><span class=\"lineskeleton\"><span class=\"textattr\">0</span></span></span>,\n",
       " <span class=\"value\"><span class=\"lineskeleton\"><span class=\"textattr\">0</span></span></span>,\n",
       " <span class=\"value\"><span class=\"lineskeleton\"><span class=\"textattr\">0</span></span></span>,\n",
       " <span class=\"value\"><span class=\"lineskeleton\"><span class=\"textattr\">0</span></span></span>,\n",
       " <span class=\"value\"><span class=\"lineskeleton\"><span class=\"textattr\">0</span></span></span>,\n",
       " <span class=\"value\"><span class=\"lineskeleton\"><span class=\"textattr\">0</span></span></span>,\n",
       " <span class=\"value\"><span class=\"lineskeleton\"><span class=\"textattr\">0</span></span></span>,\n",
       " <span class=\"value\"><span class=\"lineskeleton\"><span class=\"textattr\">0</span></span></span>,\n",
       " <span class=\"value\"><span class=\"lineskeleton\"><span class=\"textattr\">0</span></span></span>,\n",
       " <span class=\"value\"><span class=\"lineskeleton\"><span class=\"textattr\">000</span></span></span>,\n",
       " <span class=\"value\"><span class=\"lineskeleton\"><span class=\"textattr\">0000</span></span></span>]"
      ]
     },
     "execution_count": 87,
     "metadata": {},
     "output_type": "execute_result"
    }
   ],
   "source": [
    "soup.find_all('span', {'class' : 'value'})"
   ]
  },
  {
   "cell_type": "code",
   "execution_count": 92,
   "metadata": {},
   "outputs": [
    {
     "ename": "KeyError",
     "evalue": "'name'",
     "output_type": "error",
     "traceback": [
      "\u001b[1;31m---------------------------------------------------------------------------\u001b[0m",
      "\u001b[1;31mKeyError\u001b[0m                                  Traceback (most recent call last)",
      "\u001b[1;32m<ipython-input-92-cb973c564704>\u001b[0m in \u001b[0;36m<module>\u001b[1;34m\u001b[0m\n\u001b[1;32m----> 1\u001b[1;33m \u001b[0msoup\u001b[0m\u001b[1;33m.\u001b[0m\u001b[0mspan\u001b[0m\u001b[1;33m[\u001b[0m\u001b[1;34m'name'\u001b[0m\u001b[1;33m]\u001b[0m\u001b[1;33m\u001b[0m\u001b[1;33m\u001b[0m\u001b[0m\n\u001b[0m",
      "\u001b[1;32mC:\\ProgramData\\Anaconda3\\lib\\site-packages\\bs4\\element.py\u001b[0m in \u001b[0;36m__getitem__\u001b[1;34m(self, key)\u001b[0m\n\u001b[0;32m   1009\u001b[0m         \"\"\"tag[key] returns the value of the 'key' attribute for the tag,\n\u001b[0;32m   1010\u001b[0m         and throws an exception if it's not there.\"\"\"\n\u001b[1;32m-> 1011\u001b[1;33m         \u001b[1;32mreturn\u001b[0m \u001b[0mself\u001b[0m\u001b[1;33m.\u001b[0m\u001b[0mattrs\u001b[0m\u001b[1;33m[\u001b[0m\u001b[0mkey\u001b[0m\u001b[1;33m]\u001b[0m\u001b[1;33m\u001b[0m\u001b[1;33m\u001b[0m\u001b[0m\n\u001b[0m\u001b[0;32m   1012\u001b[0m \u001b[1;33m\u001b[0m\u001b[0m\n\u001b[0;32m   1013\u001b[0m     \u001b[1;32mdef\u001b[0m \u001b[0m__iter__\u001b[0m\u001b[1;33m(\u001b[0m\u001b[0mself\u001b[0m\u001b[1;33m)\u001b[0m\u001b[1;33m:\u001b[0m\u001b[1;33m\u001b[0m\u001b[1;33m\u001b[0m\u001b[0m\n",
      "\u001b[1;31mKeyError\u001b[0m: 'name'"
     ]
    }
   ],
   "source": []
  },
  {
   "cell_type": "code",
   "execution_count": null,
   "metadata": {},
   "outputs": [],
   "source": []
  }
 ],
 "metadata": {
  "kernelspec": {
   "display_name": "Python 3",
   "language": "python",
   "name": "python3"
  },
  "language_info": {
   "codemirror_mode": {
    "name": "ipython",
    "version": 3
   },
   "file_extension": ".py",
   "mimetype": "text/x-python",
   "name": "python",
   "nbconvert_exporter": "python",
   "pygments_lexer": "ipython3",
   "version": "3.7.1"
  }
 },
 "nbformat": 4,
 "nbformat_minor": 2
}
