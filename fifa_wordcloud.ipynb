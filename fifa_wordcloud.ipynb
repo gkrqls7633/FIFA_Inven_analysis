{
 "cells": [
  {
   "cell_type": "markdown",
   "metadata": {},
   "source": [
    "## Wordcloud 만들기"
   ]
  },
  {
   "cell_type": "code",
   "execution_count": null,
   "metadata": {},
   "outputs": [],
   "source": [
    "#데이터 불러오기\n",
    "\n",
    "from konlpy.tag import Okt\n",
    "from collections import Counter\n",
    "import timeit\n",
    "\n",
    "from wordcloud import WordCloud\n",
    "import matplotlib.pyplot as plt\n",
    "import nltk \n",
    "\n",
    "%matplotlib inline\n",
    "import matplotlib\n",
    "from IPython.display import set_matplotlib_formats\n",
    "\n",
    "matplotlib.rc('font',family = 'Malgun Gothic')\n",
    "set_matplotlib_formats('retina')\n",
    "matplotlib.rc('axes',unicode_minus = False)\n",
    "\n",
    "file = open('comment.txt', 'r', encoding='utf-8')  #파일 open\n",
    "lists = file.readlines()  #파일 읽기\n",
    "file.close()\n"
   ]
  },
  {
   "cell_type": "code",
   "execution_count": null,
   "metadata": {},
   "outputs": [],
   "source": [
    "# 형태소 분석\n",
    "\n",
    "start = timeit.default_timer()\n",
    "\n",
    "okt = Okt()   #Okt 형태소\n",
    "morphs = []\n",
    "for sentence in lists: \n",
    "    morphs.append(okt.pos(sentence))  #어근, 품사 확인 후 morphs에 추가\n",
    "\n",
    "print(morphs)\n",
    "\n",
    "end = timeit.default_timer()\n",
    "(end - start)   #걸리는 시간 기록"
   ]
  },
  {
   "cell_type": "code",
   "execution_count": null,
   "metadata": {},
   "outputs": [],
   "source": [
    "#명사, 동사, 형용사 품사만 선정\n",
    "\n",
    "noun_adj_adv_list=[]\n",
    "for sentence in morphs :\n",
    "    for word, tag in sentence :\n",
    "        if tag in ['Noun', 'Verb', 'Adjective']:\n",
    "            noun_adj_adv_list.append(word)\n",
    "\n",
    "print(noun_adj_adv_list)\n"
   ]
  },
  {
   "cell_type": "code",
   "execution_count": null,
   "metadata": {},
   "outputs": [],
   "source": [
    "#빈도수대로 정렬\n",
    "\n",
    "count = Counter(noun_adj_adv_list)\n",
    "\n",
    "words = dict(count.most_common())\n",
    "\n",
    "print(words)"
   ]
  },
  {
   "cell_type": "code",
   "execution_count": null,
   "metadata": {},
   "outputs": [],
   "source": [
    "#불용어 사전 (stopword) 불러오기\n",
    "with open('./koreanStopwords.txt', encoding= ' utf-8') as file:\n",
    "    stop_words = list()\n",
    "    \n",
    "    for f in file:\n",
    "        stop_words.append(f[:-1])   #\\n 문자 제거\n",
    "    print(stop_words)"
   ]
  },
  {
   "cell_type": "code",
   "execution_count": null,
   "metadata": {},
   "outputs": [],
   "source": [
    "#불용어 제거\n",
    "[words.pop(key, None) for key in stop_words]\n",
    "print(words)\n"
   ]
  },
  {
   "cell_type": "code",
   "execution_count": null,
   "metadata": {},
   "outputs": [],
   "source": [
    "#wordcloud 생성\n",
    "\n",
    "wordcloud = WordCloud(font_path = 'C:/Windows/Fonts/malgun.ttf', \n",
    "                      background_color='white',colormap = \"Accent_r\", \n",
    "                      width=2000, height=1200, max_words=100).generate_from_frequencies(words)\n",
    "wordcloud.to_file('word_cloud.png')  #png로 저장\n",
    "\n",
    "plt.imshow(wordcloud)\n",
    "plt.axis('off')\n",
    "plt.show()\n",
    "\n",
    "\n"
   ]
  }
 ],
 "metadata": {
  "kernelspec": {
   "display_name": "Python 3",
   "language": "python",
   "name": "python3"
  },
  "language_info": {
   "codemirror_mode": {
    "name": "ipython",
    "version": 3
   },
   "file_extension": ".py",
   "mimetype": "text/x-python",
   "name": "python",
   "nbconvert_exporter": "python",
   "pygments_lexer": "ipython3",
   "version": "3.7.1"
  }
 },
 "nbformat": 4,
 "nbformat_minor": 2
}
